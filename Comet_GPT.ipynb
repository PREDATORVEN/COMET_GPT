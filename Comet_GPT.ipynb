{
  "nbformat": 4,
  "nbformat_minor": 0,
  "metadata": {
    "colab": {
      "provenance": []
    },
    "kernelspec": {
      "name": "python3",
      "display_name": "Python 3"
    },
    "language_info": {
      "name": "python"
    }
  },
  "cells": [
    {
      "cell_type": "code",
      "execution_count": null,
      "metadata": {
        "id": "JvemrgiKVoLR"
      },
      "outputs": [],
      "source": [
        "pip install nltk\n"
      ]
    },
    {
      "cell_type": "code",
      "source": [
        "pip install newspaper3k\n"
      ],
      "metadata": {
        "id": "vuvyhgtcj-Uz"
      },
      "execution_count": null,
      "outputs": []
    },
    {
      "cell_type": "code",
      "source": [
        "from newspaper import Article\n",
        "import random , string\n",
        "import nltk\n",
        "from sklearn.feature_extraction.text import CountVectorizer\n",
        "from sklearn.metrics.pairwise import cosine_similarity\n",
        "import numpy as np\n",
        "import warnings\n",
        "warnings.filterwarnings('ignore')"
      ],
      "metadata": {
        "id": "srt_aMgqkS7j"
      },
      "execution_count": null,
      "outputs": []
    },
    {
      "cell_type": "code",
      "source": [
        "#Downloader !!\n",
        "nltk.download('punkt')"
      ],
      "metadata": {
        "colab": {
          "base_uri": "https://localhost:8080/"
        },
        "id": "CyIETKzBn0fA",
        "outputId": "36e1d96f-6465-4343-88eb-26c43960ffc3"
      },
      "execution_count": null,
      "outputs": [
        {
          "output_type": "stream",
          "name": "stderr",
          "text": [
            "[nltk_data] Downloading package punkt to /root/nltk_data...\n",
            "[nltk_data]   Package punkt is already up-to-date!\n"
          ]
        },
        {
          "output_type": "execute_result",
          "data": {
            "text/plain": [
              "True"
            ]
          },
          "metadata": {},
          "execution_count": 54
        }
      ]
    },
    {
      "cell_type": "code",
      "source": [
        "#Download content !!\n",
        "article=Article(\"https://www.drdo.gov.in/drdo/about-drdo\")\n",
        "\n",
        "article.download()\n",
        "article.parse()\n",
        "article.nlp()\n",
        "corpus=article.text"
      ],
      "metadata": {
        "id": "eh6yDYgFmlVI"
      },
      "execution_count": 70,
      "outputs": []
    },
    {
      "cell_type": "code",
      "source": [
        "#Display corpus!!\n",
        "print(corpus)"
      ],
      "metadata": {
        "colab": {
          "base_uri": "https://localhost:8080/"
        },
        "id": "K-kZS1XNoPVg",
        "outputId": "b5db93b3-ec29-48c7-e1b9-7ebad04c023e"
      },
      "execution_count": 71,
      "outputs": [
        {
          "output_type": "stream",
          "name": "stdout",
          "text": [
            "DRDO is the R&D wing of Ministry of Defence, Govt of India, with a vision to empower India with cutting-edge defence technologies and a mission to achieve self-reliance in critical defence technologies and systems, while equipping our armed forces with state-of-the-art weapon systems and equipment in accordance with requirements laid down by the three Services. DRDO's pursuit of self-reliance and successful indigenous development and production of strategic systems and platforms such as Agni and Prithvi series of missiles; light combat aircraft, Tejas; multi-barrel rocket launcher, Pinaka; air defence system, Akash; a wide range of radars and electronic warfare systems; etc., have given quantum jump to India's military might, generating effective deterrence and providing crucial leverage.\n",
            "\n",
            "\"Balasya Mulam Vigyanam\"—the source of strength is science-drives the nation in peace and war. DRDO has firm determination to make the nation strong and self-reliant in terms of science and technology, especially in the field of military technologies.\n",
            "\n",
            "DRDO was formed in 1958 from the amalgamation of the then already functioning Technical Development Establishment (TDEs) of the Indian Army and the Directorate of Technical Development & Production (DTDP) with the Defence Science Organisation (DSO). DRDO was then a small organisation with 10 establishments or laboratories. Over the years, it has grown multi-directionally in terms of the variety of subject disciplines, number of laboratories, achievements and stature.\n",
            "\n",
            "Today, DRDO is a network of around 41 laboratories and 05 DRDO Young Scientist Laboratories (DYSLs) which are deeply engaged in developing defence technologies covering various disciplines, like aeronautics, armaments, electronics, combat vehicles, engineering systems, instrumentation, missiles, advanced computing and simulation, special materials, naval systems, life sciences, training, information systems and agriculture. Several major projects for the development of missiles, armaments, light combat aircrafts, radars, electronic warfare systems etc are on hand and significant achievements have already been made in several such technologies.\n"
          ]
        }
      ]
    },
    {
      "cell_type": "code",
      "source": [
        "# List of sentences!!\n",
        "text=corpus\n",
        "sentence_list=nltk.sent_tokenize(text)\n",
        "# print(sentence_list)\n",
        "# print(\"lenght of sentence_list: \",len(sentence_list))"
      ],
      "metadata": {
        "id": "h5AUtJ_Xz8C3"
      },
      "execution_count": 72,
      "outputs": []
    },
    {
      "cell_type": "code",
      "source": [
        "#Bot Greetings Response!!\n",
        "def bot_greetings(user_input):\n",
        "  user_input=user_input.lower()\n",
        "\n",
        "  bot_greetings=['hi','hello','hola','glad to see you','wassup']\n",
        "  user_greetings=['hi','hello','hola','hey','greetings']\n",
        "\n",
        "  for word in user_input.split():\n",
        "    if word in user_greetings:\n",
        "      return random.choice(bot_greetings)\n"
      ],
      "metadata": {
        "id": "a2_3YqDDxuyh"
      },
      "execution_count": 73,
      "outputs": []
    },
    {
      "cell_type": "code",
      "source": [
        "\n",
        "def index_sort(list_var):\n",
        "  length=len(list_var)\n",
        "  index_list=list(range(0,length))\n",
        "\n",
        "  var=list_var\n",
        "  for i in range(length):\n",
        "    for j in range(length):\n",
        "      if var[index_list[i]]>var[index_list[j]]:\n",
        "        temp=index_list[i]\n",
        "        index_list[i]=index_list[j]\n",
        "        index_list[j]=temp\n",
        "  return index_list\n"
      ],
      "metadata": {
        "id": "Mb-IKxXx3Z5G"
      },
      "execution_count": 74,
      "outputs": []
    },
    {
      "cell_type": "code",
      "source": [
        "#Bot Response!!\n",
        "def bot_response(user_input):\n",
        "  user_input=user_input.lower()\n",
        "  sentence_list.append(user_input)\n",
        "  bot_response=''\n",
        "  cnt_mat=CountVectorizer().fit_transform(sentence_list)\n",
        "  similarity_scores=cosine_similarity(cnt_mat[-1],cnt_mat)\n",
        "  similarity_scores_list=similarity_scores.flatten()\n",
        "  index=index_sort(similarity_scores_list)\n",
        "  index =index[1:]\n",
        "  response_flag=0\n",
        "\n",
        "  redundant_response=0\n",
        "  for i in range(len(index)):\n",
        "    if similarity_scores_list[index[i]]>0.0:\n",
        "      response_flag=1\n",
        "      bot_response=bot_response+''+sentence_list[index[i]]\n",
        "      redundant_response+=1\n",
        "\n",
        "    if redundant_response >2:\n",
        "      break\n",
        "\n",
        "  if response_flag == 0:\n",
        "    bot_response=bot_response+''+'I apologize, I dont understand :( )'\n",
        "  sentence_list.remove(user_input)\n",
        "\n",
        "  return bot_response"
      ],
      "metadata": {
        "id": "6MTPHb2J1HdH"
      },
      "execution_count": 75,
      "outputs": []
    },
    {
      "cell_type": "code",
      "source": [
        "#Commence Conversation!!\n",
        "\n",
        "print(\"COMET_GPT☄️: I am COMET ☄️, I will answer your queries about DRDO(DEFENSE,RESEARCH AND DEVELOPMENT ORGANIZATION) .IF you want to exit type BYE.\")\n",
        "exit_list=['exit','stop','terminate','bye','see you later','quit','break']\n",
        "while(True):\n",
        "  user_input=input()\n",
        "  if user_input.lower() in exit_list:\n",
        "    print(\"COMET_GPT☄️: Chat with you later , take care <3\")\n",
        "    break\n",
        "  else:\n",
        "    if bot_greetings(user_input) !=None:\n",
        "      print(\"COMET_GPT☄️: \",bot_greetings(user_input))\n",
        "      print(\" \")\n",
        "    else:\n",
        "      print(\"COMET_GPT☄️: \",bot_response(user_input))\n",
        "      print(\" \")"
      ],
      "metadata": {
        "colab": {
          "base_uri": "https://localhost:8080/"
        },
        "id": "hAmGmrmCHWpq",
        "outputId": "7ad2f424-064d-4ad3-f312-e626e9b3d22a"
      },
      "execution_count": null,
      "outputs": [
        {
          "output_type": "stream",
          "name": "stdout",
          "text": [
            "COMET_GPT☄️: I am COMET ☄️, I will answer your queries about DRDO(DEFENSE,RESEARCH AND DEVELOPMENT ORGANIZATION) .IF you want to exit type BYE.\n",
            "hi bot !\n",
            "COMET_GPT☄️:  hello\n",
            " \n",
            "when was DRDO formed?\n",
            "COMET_GPT☄️:  DRDO was then a small organisation with 10 establishments or laboratories.DRDO was formed in 1958 from the amalgamation of the then already functioning Technical Development Establishment (TDEs) of the Indian Army and the Directorate of Technical Development & Production (DTDP) with the Defence Science Organisation (DSO).Today, DRDO is a network of around 41 laboratories and 05 DRDO Young Scientist Laboratories (DYSLs) which are deeply engaged in developing defence technologies covering various disciplines, like aeronautics, armaments, electronics, combat vehicles, engineering systems, instrumentation, missiles, advanced computing and simulation, special materials, naval systems, life sciences, training, information systems and agriculture.\n",
            " \n",
            "what are all its contributions\n",
            "COMET_GPT☄️:  Several major projects for the development of missiles, armaments, light combat aircrafts, radars, electronic warfare systems etc are on hand and significant achievements have already been made in several such technologies.Today, DRDO is a network of around 41 laboratories and 05 DRDO Young Scientist Laboratories (DYSLs) which are deeply engaged in developing defence technologies covering various disciplines, like aeronautics, armaments, electronics, combat vehicles, engineering systems, instrumentation, missiles, advanced computing and simulation, special materials, naval systems, life sciences, training, information systems and agriculture.\n",
            " \n",
            "what is its moto ?\n",
            "COMET_GPT☄️:  \"Balasya Mulam Vigyanam\"—the source of strength is science-drives the nation in peace and war.Today, DRDO is a network of around 41 laboratories and 05 DRDO Young Scientist Laboratories (DYSLs) which are deeply engaged in developing defence technologies covering various disciplines, like aeronautics, armaments, electronics, combat vehicles, engineering systems, instrumentation, missiles, advanced computing and simulation, special materials, naval systems, life sciences, training, information systems and agriculture.DRDO is the R&D wing of Ministry of Defence, Govt of India, with a vision to empower India with cutting-edge defence technologies and a mission to achieve self-reliance in critical defence technologies and systems, while equipping our armed forces with state-of-the-art weapon systems and equipment in accordance with requirements laid down by the three Services.\n",
            " \n",
            "how many establishments ?\n",
            "COMET_GPT☄️:  DRDO was then a small organisation with 10 establishments or laboratories.\n",
            " \n",
            "what are agni and prithvi missiles?\n",
            "COMET_GPT☄️:  DRDO's pursuit of self-reliance and successful indigenous development and production of strategic systems and platforms such as Agni and Prithvi series of missiles; light combat aircraft, Tejas; multi-barrel rocket launcher, Pinaka; air defence system, Akash; a wide range of radars and electronic warfare systems; etc., have given quantum jump to India's military might, generating effective deterrence and providing crucial leverage.Today, DRDO is a network of around 41 laboratories and 05 DRDO Young Scientist Laboratories (DYSLs) which are deeply engaged in developing defence technologies covering various disciplines, like aeronautics, armaments, electronics, combat vehicles, engineering systems, instrumentation, missiles, advanced computing and simulation, special materials, naval systems, life sciences, training, information systems and agriculture.Several major projects for the development of missiles, armaments, light combat aircrafts, radars, electronic warfare systems etc are on hand and significant achievements have already been made in several such technologies.\n",
            " \n"
          ]
        }
      ]
    }
  ]
}